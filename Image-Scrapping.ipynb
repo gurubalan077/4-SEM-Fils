{
 "cells": [
  {
   "cell_type": "code",
   "execution_count": 1,
   "id": "5f9357ae",
   "metadata": {},
   "outputs": [
    {
     "name": "stdout",
     "output_type": "stream",
     "text": [
      "Requirement already satisfied: bing-image-downloader in c:\\users\\admin\\anaconda3\\lib\\site-packages (1.1.2)\n",
      "Note: you may need to restart the kernel to use updated packages.\n"
     ]
    }
   ],
   "source": [
    "pip install bing-image-downloader"
   ]
  },
  {
   "cell_type": "code",
   "execution_count": 2,
   "id": "04a05203",
   "metadata": {},
   "outputs": [],
   "source": [
    "from bing_image_downloader import downloader"
   ]
  },
  {
   "cell_type": "code",
   "execution_count": 3,
   "id": "26608d5a",
   "metadata": {},
   "outputs": [
    {
     "name": "stdout",
     "output_type": "stream",
     "text": [
      "[%] Downloading Images to C:\\Users\\Admin\\4SEM(Gurubalan)\\Data-Set\\house\n",
      "\n",
      "\n",
      "[!!]Indexing page: 1\n",
      "\n",
      "[%] Indexed 30 Images on Page 1.\n",
      "\n",
      "===============================================\n",
      "\n",
      "[%] Downloading Image #1 from https://upload.wikimedia.org/wikipedia/commons/thumb/4/45/Neely-Sieber_House%2C_front.jpg/1200px-Neely-Sieber_House%2C_front.jpg\n",
      "[Error]Invalid image, not saving https://upload.wikimedia.org/wikipedia/commons/thumb/4/45/Neely-Sieber_House%2C_front.jpg/1200px-Neely-Sieber_House%2C_front.jpg\n",
      "\n",
      "[!] Issue getting: https://upload.wikimedia.org/wikipedia/commons/thumb/4/45/Neely-Sieber_House%2C_front.jpg/1200px-Neely-Sieber_House%2C_front.jpg\n",
      "[!] Error:: Invalid image, not saving https://upload.wikimedia.org/wikipedia/commons/thumb/4/45/Neely-Sieber_House%2C_front.jpg/1200px-Neely-Sieber_House%2C_front.jpg\n",
      "\n",
      "[%] Downloading Image #1 from https://upload.wikimedia.org/wikipedia/commons/thumb/0/0e/Claudehouse1.JPG/1200px-Claudehouse1.JPG\n",
      "[%] File Downloaded !\n",
      "\n",
      "[%] Downloading Image #2 from https://imagesvc.meredithcorp.io/v3/mm/image?q=85&amp;c=sc&amp;poi=[900%2C640]&amp;w=1799&amp;h=942&amp;url=https:%2F%2Fstatic.onecms.io%2Fwp-content%2Fuploads%2Fsites%2F37%2F2016%2F02%2F15230656%2Fwhite-modern-house-curved-patio-archway-c0a4a3b3.jpg\n",
      "[!] Issue getting: https://imagesvc.meredithcorp.io/v3/mm/image?q=85&amp;c=sc&amp;poi=[900%2C640]&amp;w=1799&amp;h=942&amp;url=https:%2F%2Fstatic.onecms.io%2Fwp-content%2Fuploads%2Fsites%2F37%2F2016%2F02%2F15230656%2Fwhite-modern-house-curved-patio-archway-c0a4a3b3.jpg\n",
      "[!] Error:: HTTP Error 400: Bad Request\n",
      "[%] Downloading Image #2 from https://images.pexels.com/photos/1569003/pexels-photo-1569003.jpeg?cs=srgb&amp;dl=architecture-bungalow-chimney-1569003.jpg&amp;fm=jpg\n",
      "[%] File Downloaded !\n",
      "\n",
      "[%] Downloading Image #3 from https://upload.wikimedia.org/wikipedia/commons/thumb/2/2a/S.R._Thompson_House.jpg/1200px-S.R._Thompson_House.jpg\n",
      "[%] File Downloaded !\n",
      "\n",
      "[%] Downloading Image #4 from https://upload.wikimedia.org/wikipedia/commons/thumb/6/66/Craik-Patton_House_Apr_09.JPG/1200px-Craik-Patton_House_Apr_09.JPG\n",
      "[%] File Downloaded !\n",
      "\n",
      "[%] Downloading Image #5 from http://www.deadlinenews.co.uk/wp-content/uploads/2017/07/2-1.jpg\n",
      "[Error]Invalid image, not saving http://www.deadlinenews.co.uk/wp-content/uploads/2017/07/2-1.jpg\n",
      "\n",
      "[!] Issue getting: http://www.deadlinenews.co.uk/wp-content/uploads/2017/07/2-1.jpg\n",
      "[!] Error:: Invalid image, not saving http://www.deadlinenews.co.uk/wp-content/uploads/2017/07/2-1.jpg\n",
      "\n",
      "[%] Downloading Image #5 from https://upload.wikimedia.org/wikipedia/commons/f/f8/UVA_KA_House.jpg\n",
      "[%] File Downloaded !\n",
      "\n",
      "[%] Downloading Image #6 from https://2.bp.blogspot.com/-wLQ7J35S7wg/Uly76NjRYgI/AAAAAAAAACs/JO8z10xS1_w/s1600/house.jpg\n",
      "[%] File Downloaded !\n",
      "\n",
      "[%] Downloading Image #7 from https://i.pinimg.com/originals/f4/21/87/f42187ad20b46cf62d1a886793ecad86.jpg\n",
      "[%] File Downloaded !\n",
      "\n",
      "[%] Downloading Image #8 from https://images.adsttc.com/media/images/569d/aa22/e58e/cead/b000/009b/large_jpg/portada_13.jpg?1453173259\n",
      "[%] File Downloaded !\n",
      "\n",
      "[%] Downloading Image #9 from https://4rivershistoricalalliance.org/wp-content/uploads/2019/03/Thompson-house.jpg\n",
      "[%] File Downloaded !\n",
      "\n",
      "[%] Downloading Image #10 from http://eurekaheritage.com/images/Home Tour 2006/HousePhotos/Iris House.jpg\n",
      "[!] Issue getting: http://eurekaheritage.com/images/Home Tour 2006/HousePhotos/Iris House.jpg\n",
      "[!] Error:: URL can't contain control characters. '/images/Home Tour 2006/HousePhotos/Iris House.jpg' (found at least ' ')\n",
      "[%] Downloading Image #10 from https://www.teahouse-stlucia.com/wp-content/uploads/2018/10/House-Exterior.jpg\n",
      "[%] File Downloaded !\n",
      "\n",
      "[%] Downloading Image #11 from https://www.puentehouse.org/wp-content/uploads/2019/07/house2.jpg\n",
      "[%] File Downloaded !\n",
      "\n",
      "[%] Downloading Image #12 from https://wdeastman.com/wp-content/uploads/2016/07/house.jpg\n",
      "[%] File Downloaded !\n",
      "\n",
      "[%] Downloading Image #13 from https://upload.wikimedia.org/wikipedia/commons/8/85/William_and_Jane_Phinney_House%2C_1730.jpg\n",
      "[%] File Downloaded !\n",
      "\n",
      "[%] Downloading Image #14 from http://roohome.com/wp-content/uploads/2017/05/charcoal-and-wood-home-design-exterior-Yuliya-Rastorguyeva.jpg\n",
      "[%] File Downloaded !\n",
      "\n",
      "[%] Downloading Image #15 from https://upload.wikimedia.org/wikipedia/commons/f/f7/Woodward%2C_Ashbel%2C_House_(New_London_County%2C_Connecticut).jpg\n",
      "[%] File Downloaded !\n",
      "\n",
      "[%] Downloading Image #16 from https://upload.wikimedia.org/wikipedia/commons/thumb/5/51/Havens-Page_House_from_SW.jpg/1200px-Havens-Page_House_from_SW.jpg\n",
      "[%] File Downloaded !\n",
      "\n",
      "[%] Downloading Image #17 from https://s3-us-west-2.amazonaws.com/hfc-ad-prod/plan_assets/80775/original/80775pm_1479210724.jpg?1506332277\n",
      "[%] File Downloaded !\n",
      "\n",
      "[%] Downloading Image #18 from https://theinspiredroom.net/wp-content/uploads/2018/08/White-House-Great-Neighborhood-Homes.jpg\n",
      "[%] File Downloaded !\n",
      "\n",
      "[%] Downloading Image #19 from https://allontario.ca/wp-content/uploads/2012/12/1-Campbell_House.jpg\n",
      "[%] File Downloaded !\n",
      "\n",
      "[%] Downloading Image #20 from http://upload.wikimedia.org/wikipedia/commons/8/8c/Wilfandel_Club_House.jpg\n",
      "[%] File Downloaded !\n",
      "\n",
      "[%] Downloading Image #21 from https://4.bp.blogspot.com/-unsnr0Y5VHQ/WnsKIc8d10I/AAAAAAABIQM/cZVs1ObeAF8nZLcxEPRLcdrka5PNs2O_QCLcBGAs/s1600/cute-modern-house.jpg\n",
      "[%] File Downloaded !\n",
      "\n",
      "[%] Downloading Image #22 from https://img2.cgtrader.com/items/2205207/6e1e97bb34/modern-house-villa-3d-model-exterior-3d-model-obj-3ds-c4d-blend-dae-skp.jpg\n",
      "[%] File Downloaded !\n",
      "\n",
      "[%] Downloading Image #23 from https://www.clubponypals.com/images/house1_01.jpg\n",
      "[!] Issue getting: https://www.clubponypals.com/images/house1_01.jpg\n",
      "[!] Error:: <urlopen error [WinError 10054] An existing connection was forcibly closed by the remote host>\n",
      "[%] Downloading Image #23 from http://www.rantlets.com/wp-content/uploads/2012/10/11.jpg\n",
      "[!] Issue getting: http://www.rantlets.com/wp-content/uploads/2012/10/11.jpg\n",
      "[!] Error:: HTTP Error 403: Forbidden\n",
      "[%] Downloading Image #23 from http://upload.wikimedia.org/wikipedia/commons/1/19/Uniacke_house.png\n",
      "[%] File Downloaded !\n",
      "\n",
      "[%] Downloading Image #24 from https://s-media-cache-ak0.pinimg.com/originals/33/be/86/33be86b338b6a877b64d88f38f4a7f31.jpg\n",
      "[%] File Downloaded !\n",
      "\n",
      "\n",
      "\n",
      "[!!]Indexing page: 2\n",
      "\n",
      "[%] Indexed 35 Images on Page 2.\n",
      "\n",
      "===============================================\n",
      "\n",
      "[%] Downloading Image #25 from https://3.bp.blogspot.com/-i-8lxZXEdMM/WmXIlC6yHXI/AAAAAAAAAE8/QKt90INDzSE5i3GBY2WW_Epy-yiesNp2ACLcBGAs/s1600/superb-contemporary-house.jpg\n",
      "[%] File Downloaded !\n",
      "\n",
      "[%] Downloading Image #26 from https://a31eb4a396f4ecf27fae.b-cdn.net/wp-content/uploads/2020/12/midterraced-header.jpg\n",
      "[%] File Downloaded !\n",
      "\n",
      "[%] Downloading Image #27 from https://4.bp.blogspot.com/-YqBGG9ZipkQ/WtGS4cN5III/AAAAAAAAAuY/q-S0lWeewHofCBB1wmIQkLk4m6m096yOQCLcBGAs/s1600/House_Restumping.jpg\n",
      "[%] File Downloaded !\n",
      "\n",
      "[%] Downloading Image #28 from http://hopkirk.com/PhotoPages/House_Photos/P22Feb06/images/image001.jpg\n",
      "[%] File Downloaded !\n",
      "\n",
      "[%] Downloading Image #29 from http://sashasroots.com/images/house.jpg\n",
      "[%] File Downloaded !\n",
      "\n",
      "\n",
      "\n",
      "[!!]Indexing page: 3\n",
      "\n",
      "[%] No more images are available\n",
      "\n",
      "\n",
      "[%] Done. Downloaded 29 images.\n"
     ]
    }
   ],
   "source": [
    "downloader.download(\"house\" , limit = 30 , output_dir = \"Data-Set\",adult_filter_off=True)"
   ]
  },
  {
   "cell_type": "code",
   "execution_count": 4,
   "id": "9b713533",
   "metadata": {},
   "outputs": [
    {
     "name": "stdout",
     "output_type": "stream",
     "text": [
      "[%] Downloading Images to C:\\Users\\Admin\\4SEM(Gurubalan)\\Data-Set\\iPhone\n",
      "\n",
      "\n",
      "[!!]Indexing page: 1\n",
      "\n",
      "[%] No more images are available\n",
      "\n",
      "\n",
      "[%] Done. Downloaded 0 images.\n"
     ]
    }
   ],
   "source": [
    "downloader.download(\"iPhone\" , limit = 30 , output_dir = \"Data-Set\",adult_filter_off=True)"
   ]
  },
  {
   "cell_type": "code",
   "execution_count": null,
   "id": "995c6ed2",
   "metadata": {},
   "outputs": [],
   "source": []
  },
  {
   "cell_type": "code",
   "execution_count": null,
   "id": "73d02f7f",
   "metadata": {},
   "outputs": [],
   "source": []
  },
  {
   "cell_type": "code",
   "execution_count": null,
   "id": "08732615",
   "metadata": {},
   "outputs": [],
   "source": []
  },
  {
   "cell_type": "code",
   "execution_count": null,
   "id": "5c1abc95",
   "metadata": {},
   "outputs": [],
   "source": []
  }
 ],
 "metadata": {
  "kernelspec": {
   "display_name": "Python 3 (ipykernel)",
   "language": "python",
   "name": "python3"
  },
  "language_info": {
   "codemirror_mode": {
    "name": "ipython",
    "version": 3
   },
   "file_extension": ".py",
   "mimetype": "text/x-python",
   "name": "python",
   "nbconvert_exporter": "python",
   "pygments_lexer": "ipython3",
   "version": "3.9.13"
  }
 },
 "nbformat": 4,
 "nbformat_minor": 5
}
