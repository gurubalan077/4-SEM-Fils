{
 "cells": [
  {
   "cell_type": "code",
   "execution_count": 1,
   "id": "5452df80",
   "metadata": {},
   "outputs": [],
   "source": [
    "import pandas as pd"
   ]
  },
  {
   "cell_type": "code",
   "execution_count": 6,
   "id": "a7abee50",
   "metadata": {},
   "outputs": [
    {
     "data": {
      "text/plain": [
       "'1.4.4'"
      ]
     },
     "execution_count": 6,
     "metadata": {},
     "output_type": "execute_result"
    }
   ],
   "source": [
    "pd.__version__"
   ]
  },
  {
   "cell_type": "code",
   "execution_count": 13,
   "id": "b890ec24",
   "metadata": {},
   "outputs": [],
   "source": [
    "a1=pd.Series(['one',2,3,4,5],index=[0,1,2,3,4])"
   ]
  },
  {
   "cell_type": "code",
   "execution_count": 14,
   "id": "534979a4",
   "metadata": {},
   "outputs": [
    {
     "name": "stdout",
     "output_type": "stream",
     "text": [
      "0    one\n",
      "1      2\n",
      "2      3\n",
      "3      4\n",
      "4      5\n",
      "dtype: object\n"
     ]
    }
   ],
   "source": [
    "print(a1)"
   ]
  },
  {
   "cell_type": "code",
   "execution_count": 15,
   "id": "8d65ef67",
   "metadata": {},
   "outputs": [],
   "source": [
    "a2=pd.Series(['one',2.5,'3+j',4,5],index=[0,1,2,3,4])"
   ]
  },
  {
   "cell_type": "code",
   "execution_count": 17,
   "id": "58c166a1",
   "metadata": {},
   "outputs": [
    {
     "name": "stdout",
     "output_type": "stream",
     "text": [
      "0    one\n",
      "1    2.5\n",
      "2    3+j\n",
      "3      4\n",
      "4      5\n",
      "dtype: object\n"
     ]
    }
   ],
   "source": [
    "print(a2)"
   ]
  },
  {
   "cell_type": "code",
   "execution_count": 23,
   "id": "da46709a",
   "metadata": {},
   "outputs": [],
   "source": [
    "season = {\"Rainy\":{1:'nov', 2:'dec', 3:'jan', 4:'feb'}, \"Dry\":{1:'mar', 2:'apr', 3:'may', 4:'jun'},\"Com\":{1:'jul',2:'Aug',3:'sep',4:'ocb'}}"
   ]
  },
  {
   "cell_type": "code",
   "execution_count": 25,
   "id": "c7bf7f5a",
   "metadata": {},
   "outputs": [],
   "source": [
    "d=pd.DataFrame(season ,columns =[\"Rainy\",\"Dry\",\"Com\"])"
   ]
  },
  {
   "cell_type": "code",
   "execution_count": 26,
   "id": "498ec01c",
   "metadata": {},
   "outputs": [
    {
     "name": "stdout",
     "output_type": "stream",
     "text": [
      "  Rainy  Dry  Com\n",
      "1   nov  mar  jul\n",
      "2   dec  apr  Aug\n",
      "3   jan  may  sep\n",
      "4   feb  jun  ocb\n"
     ]
    }
   ],
   "source": [
    "print(d)"
   ]
  },
  {
   "cell_type": "code",
   "execution_count": 27,
   "id": "cc5d89c3",
   "metadata": {},
   "outputs": [],
   "source": [
    "import numpy as np "
   ]
  },
  {
   "cell_type": "code",
   "execution_count": 34,
   "id": "5cdb92f8",
   "metadata": {},
   "outputs": [],
   "source": [
    "a =pd.DataFrame(np.random.randint(200,5000,size=(30,10)),columns=list('abcdefghkl'))"
   ]
  },
  {
   "cell_type": "code",
   "execution_count": 36,
   "id": "6468dc46",
   "metadata": {},
   "outputs": [
    {
     "name": "stdout",
     "output_type": "stream",
     "text": [
      "       a     b     c     d     e     f     g     h     k     l\n",
      "0    606  1901  2621   919  3086  3334  3019   801  1717   833\n",
      "1   2922  2990  2836  3534  2636  2270  2379   605  2278  4005\n",
      "2   3522  4833  4554  4250   914  2979  4297  2288  3487  1091\n",
      "3    359   799  3230  2801  4529  3687  3005  1732  2758  3735\n",
      "4   2384  2332  2905  2872  4459  3133  3486  1634  3698  4156\n",
      "5   4742  1504  4633  4378  1034  3082  2369   234  1704  4277\n",
      "6   3593  3167  2543  1599  2278  1999   315  3791  1543  1405\n",
      "7    881   695  4441  4258  2696  1044   405  2347  1047  3922\n",
      "8   3838  3551  2017   364  4865   598  4698  3516  2407  1548\n",
      "9   3848  4766  2234  1569  2585  2526  1627  2997   648   741\n",
      "10  2524  1660  2513  3957  1710  1187  4465  4799  4498  3228\n",
      "11  2677   412  2259  1720   645  2444  1315  1360  4415   218\n",
      "12  1369  4748  1826  4487   719  3867  3061  3944  4486  1390\n",
      "13  4983  1172  3640  1768  1469  2377  3429  3220  3600  4652\n",
      "14  3999  4577  3118  1017  4839  3242  2349  1075  4886  4098\n",
      "15  1107  1228  2852  1091  3265  1102  2973  1515  3155  2225\n",
      "16   644  3751  3046  1742  4331  4629   363  3312   599   340\n",
      "17  1743  4490   480  4428  1969   261  1142  1833  2544  2227\n",
      "18  1712  1506  3067  2203   605  2993   906  4226   426  3410\n",
      "19  1432  3421  3665  2518  3811  1384  3361  4651  3255  2447\n",
      "20  2370  1366  1662  2123  1987  2552   704  1680  1089  4864\n",
      "21   782  4523  2164   948   827  3321   228  1059  3376  2328\n",
      "22  2163  2595  2035  1475  4575  1369  1714  4389  1147  4112\n",
      "23  3372  2306  3851  2845  2392   910  2010  4400  1251  2356\n",
      "24  2682  4639  4947  2671  4530  3317  4628  4258  4179  1499\n",
      "25  2860  2057   232  1836  2629  3277  3540  1734  3820  4295\n",
      "26  3886  3987   847  1876  2020  1886  3773   685  2214  1987\n",
      "27  3543  2527  4288  4464  4177  1535  4336  2833  1184  2757\n",
      "28  1272  1878  1177  4020  4974  1281  3383  1324   661  1736\n",
      "29  3315  3566  1433   671  2460  1527  1400  4726  1296  4962\n"
     ]
    }
   ],
   "source": [
    "print(a)"
   ]
  },
  {
   "cell_type": "code",
   "execution_count": 46,
   "id": "02e3d98a",
   "metadata": {},
   "outputs": [],
   "source": [
    "a.to_csv(\"C:/Users/Admin/pandes.csv\")"
   ]
  },
  {
   "cell_type": "code",
   "execution_count": 47,
   "id": "8a2a4b04",
   "metadata": {},
   "outputs": [],
   "source": [
    "n=pd.read_csv(\"C:/Users/Admin/pandes.csv\")"
   ]
  },
  {
   "cell_type": "code",
   "execution_count": 48,
   "id": "f3043aa5",
   "metadata": {},
   "outputs": [
    {
     "name": "stdout",
     "output_type": "stream",
     "text": [
      "    Unnamed: 0     a     b     c     d     e     f     g     h     k     l\n",
      "0            0   606  1901  2621   919  3086  3334  3019   801  1717   833\n",
      "1            1  2922  2990  2836  3534  2636  2270  2379   605  2278  4005\n",
      "2            2  3522  4833  4554  4250   914  2979  4297  2288  3487  1091\n",
      "3            3   359   799  3230  2801  4529  3687  3005  1732  2758  3735\n",
      "4            4  2384  2332  2905  2872  4459  3133  3486  1634  3698  4156\n",
      "5            5  4742  1504  4633  4378  1034  3082  2369   234  1704  4277\n",
      "6            6  3593  3167  2543  1599  2278  1999   315  3791  1543  1405\n",
      "7            7   881   695  4441  4258  2696  1044   405  2347  1047  3922\n",
      "8            8  3838  3551  2017   364  4865   598  4698  3516  2407  1548\n",
      "9            9  3848  4766  2234  1569  2585  2526  1627  2997   648   741\n",
      "10          10  2524  1660  2513  3957  1710  1187  4465  4799  4498  3228\n",
      "11          11  2677   412  2259  1720   645  2444  1315  1360  4415   218\n",
      "12          12  1369  4748  1826  4487   719  3867  3061  3944  4486  1390\n",
      "13          13  4983  1172  3640  1768  1469  2377  3429  3220  3600  4652\n",
      "14          14  3999  4577  3118  1017  4839  3242  2349  1075  4886  4098\n",
      "15          15  1107  1228  2852  1091  3265  1102  2973  1515  3155  2225\n",
      "16          16   644  3751  3046  1742  4331  4629   363  3312   599   340\n",
      "17          17  1743  4490   480  4428  1969   261  1142  1833  2544  2227\n",
      "18          18  1712  1506  3067  2203   605  2993   906  4226   426  3410\n",
      "19          19  1432  3421  3665  2518  3811  1384  3361  4651  3255  2447\n",
      "20          20  2370  1366  1662  2123  1987  2552   704  1680  1089  4864\n",
      "21          21   782  4523  2164   948   827  3321   228  1059  3376  2328\n",
      "22          22  2163  2595  2035  1475  4575  1369  1714  4389  1147  4112\n",
      "23          23  3372  2306  3851  2845  2392   910  2010  4400  1251  2356\n",
      "24          24  2682  4639  4947  2671  4530  3317  4628  4258  4179  1499\n",
      "25          25  2860  2057   232  1836  2629  3277  3540  1734  3820  4295\n",
      "26          26  3886  3987   847  1876  2020  1886  3773   685  2214  1987\n",
      "27          27  3543  2527  4288  4464  4177  1535  4336  2833  1184  2757\n",
      "28          28  1272  1878  1177  4020  4974  1281  3383  1324   661  1736\n",
      "29          29  3315  3566  1433   671  2460  1527  1400  4726  1296  4962\n"
     ]
    }
   ],
   "source": [
    "print(n)"
   ]
  },
  {
   "cell_type": "code",
   "execution_count": 57,
   "id": "534d5a5f",
   "metadata": {},
   "outputs": [],
   "source": [
    "import matplotlib.pyplot as plt \n",
    "from mpl_toolkits.mplot3d import Axes3D\n",
    "%matplotlib inline"
   ]
  },
  {
   "cell_type": "code",
   "execution_count": 63,
   "id": "290c538e",
   "metadata": {},
   "outputs": [],
   "source": [
    "data = {\"app\":[\"Facebook\",\"What's app\",\"BGMI\",\"Twitter\"], \"reting\":[8,8,8,8], \"Download\":[100000,250000,50000,800000]}"
   ]
  },
  {
   "cell_type": "code",
   "execution_count": 64,
   "id": "24304292",
   "metadata": {},
   "outputs": [],
   "source": [
    "app1=pd.DataFrame(data ,columns =[\"app\",\"reting\",\"Download\"])"
   ]
  },
  {
   "cell_type": "code",
   "execution_count": 60,
   "id": "5390cbc6",
   "metadata": {},
   "outputs": [
    {
     "name": "stdout",
     "output_type": "stream",
     "text": [
      "{'app': ['Facebook', \"What's app\", 'BGMI', 'Twitter'], 'reting': [8, 8, 8, 8], 'Download': [100000.25, 50000, 800000]}\n"
     ]
    }
   ],
   "source": [
    "print(app1)"
   ]
  },
  {
   "cell_type": "code",
   "execution_count": 65,
   "id": "9e2dfd51",
   "metadata": {},
   "outputs": [
    {
     "name": "stdout",
     "output_type": "stream",
     "text": [
      "          app  reting  Download\n",
      "0    Facebook       8    100000\n",
      "1  What's app       8    250000\n",
      "2        BGMI       8     50000\n",
      "3     Twitter       8    800000\n"
     ]
    }
   ],
   "source": [
    "print(app1)"
   ]
  },
  {
   "cell_type": "code",
   "execution_count": 67,
   "id": "4db5a532",
   "metadata": {},
   "outputs": [],
   "source": [
    "ran =pd.DataFrame(np.random.randint(200,500,size=(40,5)),columns=list('DURAI'))"
   ]
  },
  {
   "cell_type": "code",
   "execution_count": 68,
   "id": "f7d9e380",
   "metadata": {},
   "outputs": [
    {
     "name": "stdout",
     "output_type": "stream",
     "text": [
      "      D    U    R    A    I\n",
      "0   282  262  262  200  342\n",
      "1   464  294  490  467  351\n",
      "2   361  473  264  228  200\n",
      "3   340  308  202  272  291\n",
      "4   219  414  445  260  305\n",
      "5   410  379  419  386  316\n",
      "6   245  256  485  371  325\n",
      "7   341  231  489  416  411\n",
      "8   242  217  209  319  397\n",
      "9   479  403  210  302  394\n",
      "10  309  460  306  343  243\n",
      "11  333  309  443  423  391\n",
      "12  462  410  218  307  341\n",
      "13  419  338  412  443  442\n",
      "14  250  233  447  391  213\n",
      "15  408  385  290  231  465\n",
      "16  308  460  291  222  376\n",
      "17  496  423  292  454  430\n",
      "18  273  322  393  454  435\n",
      "19  261  310  255  411  354\n",
      "20  459  442  210  402  365\n",
      "21  418  444  273  244  248\n",
      "22  425  359  275  437  329\n",
      "23  345  480  336  354  222\n",
      "24  308  376  441  322  273\n",
      "25  364  381  223  309  381\n",
      "26  394  486  210  495  213\n",
      "27  332  450  411  284  323\n",
      "28  257  213  227  269  449\n",
      "29  296  264  318  320  214\n",
      "30  451  403  348  259  314\n",
      "31  465  370  402  352  484\n",
      "32  491  267  311  241  445\n",
      "33  408  304  332  254  364\n",
      "34  438  288  410  478  445\n",
      "35  225  394  234  291  435\n",
      "36  291  371  219  475  466\n",
      "37  365  236  218  446  390\n",
      "38  443  394  377  230  269\n",
      "39  337  391  448  219  351\n"
     ]
    }
   ],
   "source": [
    "print(ran)"
   ]
  },
  {
   "cell_type": "markdown",
   "id": "26a44fc6",
   "metadata": {},
   "source": [
    "# Data Noralization"
   ]
  },
  {
   "cell_type": "code",
   "execution_count": 69,
   "id": "67528370",
   "metadata": {},
   "outputs": [],
   "source": [
    "normalization_df = pd.DataFrame({'x':np.random.randint(-100,100,1000),\n",
    "                                 'y':np.random.randint(-80,80,1000),\n",
    "                                 'z':np.random.randint(-150,150,1000)})"
   ]
  },
  {
   "cell_type": "code",
   "execution_count": null,
   "id": "4101180e",
   "metadata": {},
   "outputs": [],
   "source": []
  }
 ],
 "metadata": {
  "kernelspec": {
   "display_name": "Python 3 (ipykernel)",
   "language": "python",
   "name": "python3"
  },
  "language_info": {
   "codemirror_mode": {
    "name": "ipython",
    "version": 3
   },
   "file_extension": ".py",
   "mimetype": "text/x-python",
   "name": "python",
   "nbconvert_exporter": "python",
   "pygments_lexer": "ipython3",
   "version": "3.9.13"
  }
 },
 "nbformat": 4,
 "nbformat_minor": 5
}
